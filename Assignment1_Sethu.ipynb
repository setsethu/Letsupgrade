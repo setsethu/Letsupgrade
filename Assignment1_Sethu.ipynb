{
  "nbformat": 4,
  "nbformat_minor": 0,
  "metadata": {
    "colab": {
      "name": "Assignment1-Sethu.ipynb",
      "provenance": []
    },
    "kernelspec": {
      "name": "python3",
      "display_name": "Python 3"
    },
    "language_info": {
      "name": "python"
    }
  },
  "cells": [
    {
      "cell_type": "code",
      "metadata": {
        "id": "yOM8L_IGE6PU"
      },
      "source": [
        "#Create 2 list with some brand names\n",
        "list1 = [\"Apple\", \"Google\", \"Microsoft\", \"Amazon\", \"Samsung\", \"Cisco\"]\n",
        "list2 = [\"Benz\", \"Samsung\", \"Maruti\", \"Google\", \"IBM\", \"Oracle\"]"
      ],
      "execution_count": 1,
      "outputs": []
    },
    {
      "cell_type": "code",
      "metadata": {
        "colab": {
          "base_uri": "https://localhost:8080/"
        },
        "id": "LiSYjeMgFzMb",
        "outputId": "399ecacf-0298-4736-9c16-0bc1536cebbf"
      },
      "source": [
        "#Ascending Order\n",
        "sorted(list1)"
      ],
      "execution_count": 14,
      "outputs": [
        {
          "output_type": "execute_result",
          "data": {
            "text/plain": [
              "['Amazon', 'Apple', 'Cisco', 'Google', 'Microsoft', 'Samsung']"
            ]
          },
          "metadata": {
            "tags": []
          },
          "execution_count": 14
        }
      ]
    },
    {
      "cell_type": "code",
      "metadata": {
        "colab": {
          "base_uri": "https://localhost:8080/"
        },
        "id": "FI8caDeIGRzi",
        "outputId": "f0da5398-e9bb-4c1e-89e0-b3ddb14506d4"
      },
      "source": [
        "sorted(list2)"
      ],
      "execution_count": 15,
      "outputs": [
        {
          "output_type": "execute_result",
          "data": {
            "text/plain": [
              "['Benz', 'Google', 'IBM', 'Maruti', 'Oracle', 'Samsung']"
            ]
          },
          "metadata": {
            "tags": []
          },
          "execution_count": 15
        }
      ]
    },
    {
      "cell_type": "code",
      "metadata": {
        "colab": {
          "base_uri": "https://localhost:8080/"
        },
        "id": "s_MorCHtFFSl",
        "outputId": "0da05091-ab3b-4bb8-ffc9-01f73ad31c17"
      },
      "source": [
        "#List of overlapping brand names in both lists\n",
        "list1a = set(list1)\n",
        "intersection = list1a. intersection(list2)\n",
        "intersection"
      ],
      "execution_count": 5,
      "outputs": [
        {
          "output_type": "execute_result",
          "data": {
            "text/plain": [
              "{'Google', 'Samsung'}"
            ]
          },
          "metadata": {
            "tags": []
          },
          "execution_count": 5
        }
      ]
    },
    {
      "cell_type": "code",
      "metadata": {
        "colab": {
          "base_uri": "https://localhost:8080/"
        },
        "id": "wQ4FmPZtFLRz",
        "outputId": "31033644-8429-425a-e71c-08b4bb369a08"
      },
      "source": [
        "#print Even numbers starting with 20 and ending with 40\n",
        "for i in range(20,40,2):\n",
        "  print (i, end= \" \")"
      ],
      "execution_count": 6,
      "outputs": [
        {
          "output_type": "stream",
          "text": [
            "20 22 24 26 28 30 32 34 36 38 "
          ],
          "name": "stdout"
        }
      ]
    },
    {
      "cell_type": "code",
      "metadata": {
        "id": "LKAG0pNdFxv7"
      },
      "source": [
        ""
      ],
      "execution_count": null,
      "outputs": []
    }
  ]
}